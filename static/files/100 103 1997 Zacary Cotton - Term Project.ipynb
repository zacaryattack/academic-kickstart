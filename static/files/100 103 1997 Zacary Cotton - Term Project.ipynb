{
 "cells": [
  {
   "cell_type": "raw",
   "metadata": {},
   "source": [
    "Zacary Cotton\n",
    "100 103 1997\n",
    "CSE 5334 - Data Mining\n",
    "Term Project"
   ]
  },
  {
   "cell_type": "raw",
   "metadata": {},
   "source": [
    "To successfully execute this .ipynb file, the directory 'boardgamegeek-reviews'\n",
    "must be located within the same directory as this .ipynb file and all cells\n",
    "in this .ipynb file must be executed sequentially."
   ]
  },
  {
   "cell_type": "raw",
   "metadata": {},
   "source": [
    "The boardgamegeek-reviews directory can be obtained from:\n",
    "https://www.kaggle.com/jvanelteren/boardgamegeek-reviews"
   ]
  },
  {
   "cell_type": "markdown",
   "metadata": {},
   "source": [
    "# The Focus of This Post"
   ]
  },
  {
   "cell_type": "raw",
   "metadata": {},
   "source": [
    "In this post we develop a classifier to aid in the classification of comments onto\n",
    "a rating scale of 1 to 10. Along the way we explore the application of several different\n",
    "classifier models on a data set consisting of user made comments associated with user\n",
    "selected ratings.\n",
    "\n",
    "The mapping of sentimental values to a string of characters when considering sentimental\n",
    "values of the range 0 to 1 is a task that is today quite trivial. However, implanting an\n",
    "algorithm to map a string of characters to sentimental values of the range 0 to 10 and\n",
    "sentimental values can be 7.009 or 3.00901, this task proved to be quite difficult. I had\n",
    "used Naïve Bayes before and prior to engaging in this experiment, I would have assumed that\n",
    "Naïve Bayes would have hands down, outperformed all and would have been the go-to tool for\n",
    "this kind of data. But as the research will show, it could not keep up with the success of\n",
    "SVM. However, on the other hand, SVM only managed to maintain a position that was some\n",
    "2-4% above NB. But as was the solution to the challenge, a more layered approach to SVM\n",
    "demonstrated to be the key in increasing the accuracy.\n",
    "\n",
    "Of the investigated models, SVM was noticed to consecutively outperform both Naïve\n",
    "Bayes and KNN methods. Because of SVM’s success it was chosen as the starting method\n",
    "for learning the data at hand. However, even though SVM did outperform the others,\n",
    "its accuracy still struggled greatly to pass the value range 30-32%.\n",
    "\n",
    "So the main challenge became, how to increase this accuracy? The answer was, by implementing\n",
    "an optimization idea via a layered SVM. So here we develop several model configurations\n",
    "and select the combination that performed best. Results demonstrated that there was an\n",
    "increase in accuracy, of some 2.9-4%."
   ]
  },
  {
   "cell_type": "markdown",
   "metadata": {},
   "source": [
    "### Obtaining the Data & Data Pre-processing"
   ]
  },
  {
   "cell_type": "raw",
   "metadata": {},
   "source": [
    "We begin by importing the necessary libraries and building the csv path in\n",
    "order to load the data, which upon download is located in a directory called\n",
    "boardgamegeek-reviews, in csv file named 'bgg-13m-reviews.csv'."
   ]
  },
  {
   "cell_type": "code",
   "execution_count": 1,
   "metadata": {
    "ExecuteTime": {
     "end_time": "2020-04-21T20:25:14.734170Z",
     "start_time": "2020-04-21T20:25:09.416192Z"
    }
   },
   "outputs": [
    {
     "name": "stdout",
     "output_type": "stream",
     "text": [
      "/Users/zmo/here/jupyter/data mining/project/boardgamegeek-reviews/bgg-13m-reviews.csv\n"
     ]
    }
   ],
   "source": [
    "from sys import path\n",
    "from os.path import join\n",
    "\n",
    "import scipy\n",
    "import pandas as pd\n",
    "import numpy as np\n",
    "import matplotlib.pyplot as plt\n",
    "\n",
    "from sklearn.feature_extraction.text import TfidfVectorizer\n",
    "from sklearn.naive_bayes import MultinomialNB\n",
    "from sklearn.neighbors import KNeighborsClassifier\n",
    "from sklearn.svm import LinearSVC\n",
    "from sklearn.metrics import accuracy_score\n",
    "\n",
    "\n",
    "\n",
    "\n",
    "csv_path = join(path[0], 'boardgamegeek-reviews')\n",
    "csv_path = join(csv_path, 'bgg-13m-reviews.csv')\n",
    "\n",
    "print(csv_path)"
   ]
  },
  {
   "cell_type": "raw",
   "metadata": {},
   "source": [
    "Now that we have a path to our data we must read it into memory and preprocess\n",
    "it by formating the comments and ratings. For the comments, we format off\n",
    "unnecessary elements such as extra whitespace, non-alpha characters, non-english\n",
    "characters, and make all characters lowercase. For the ratings, we simply ensure\n",
    "that all ratings have values that are type float.\n",
    "\n",
    "For this we create 2 helper functions, Load_Data() and Format_DF()."
   ]
  },
  {
   "cell_type": "code",
   "execution_count": 2,
   "metadata": {
    "ExecuteTime": {
     "end_time": "2020-04-21T20:26:35.158732Z",
     "start_time": "2020-04-21T20:25:45.096306Z"
    },
    "code_folding": [
     0,
     5,
     42
    ]
   },
   "outputs": [],
   "source": [
    "def Format_DF(df):\n",
    "        \n",
    "    def Has_Letters(in_str): return in_str.lower().islower()\n",
    "\n",
    "    \n",
    "    def Is_RomanAlphabet(in_str):\n",
    "        try: in_str.encode(encoding='utf-8').decode('ascii')\n",
    "        except UnicodeDecodeError: return False\n",
    "        return True\n",
    "    \n",
    "    \n",
    "    # only keeps 'comment' and 'rating' columns, filling NaNs with ''\n",
    "    df = df[['comment', 'rating']].copy().fillna('')\n",
    "    # only keeps items that actually have a comment\n",
    "    df = df[df['comment'].apply(lambda x: len(x) > 0)]\n",
    "        \n",
    "    # strips and lowers comments\n",
    "    df['comment'] = [comment.strip().lower() for comment in df['comment']]\n",
    "    # only keeps items that actually have a comment\n",
    "    df = df[df['comment'].apply(lambda x: len(x) > 0)]\n",
    "        \n",
    "    # filters out comments that do not contian letters\n",
    "    df['comment'] = [comment if Has_Letters(comment) == True else '' for comment in df['comment']]\n",
    "    # only keeps items that actually have a comment\n",
    "    df = df[df['comment'].apply(lambda x: len(x) > 0)]\n",
    "\n",
    "    # filters out comments that are not Roman Alphabet comprised\n",
    "    df['comment'] = [comment if Is_RomanAlphabet(comment) == True else '' for comment in df['comment']]\n",
    "    # only keeps items that actually have a comment\n",
    "    df = df[df['comment'].apply(lambda x: len(x) > 0)]\n",
    "    \n",
    "    # light format of ratings to floats\n",
    "    df['rating'] = [float(rating) for rating in df['rating']]\n",
    "    \n",
    "    # shuffles the df\n",
    "    df = df.sample(frac=1).reset_index(drop=True)\n",
    "        \n",
    "    return df\n",
    "\n",
    "\n",
    "\n",
    "\n",
    "def Load_Data(csv_path):\n",
    "    \n",
    "    df = pd.read_csv(csv_path)\n",
    "    \n",
    "    df = Format_DF(df)\n",
    "    \n",
    "    return df\n",
    "\n",
    "\n",
    "\n",
    "\n",
    "all_data_df = Load_Data(csv_path)"
   ]
  },
  {
   "cell_type": "markdown",
   "metadata": {},
   "source": [
    "### Looking at the Data"
   ]
  },
  {
   "cell_type": "raw",
   "metadata": {},
   "source": [
    "Our data has been fully loaded and has been preprocessed. We may now take\n",
    "a little look at the data that we are dealing with in this project."
   ]
  },
  {
   "cell_type": "code",
   "execution_count": 4,
   "metadata": {
    "ExecuteTime": {
     "end_time": "2020-04-19T22:17:19.363099Z",
     "start_time": "2020-04-19T22:17:19.338854Z"
    },
    "code_folding": [
     0
    ]
   },
   "outputs": [
    {
     "name": "stdout",
     "output_type": "stream",
     "text": [
      "                                                   comment  rating\n",
      "0        exploration and race game combined.  entertain...    8.00\n",
      "1        the learning curve can be high for some but on...    9.00\n",
      "2        lots of terrain and fun figures to start out w...   10.00\n",
      "3        surprisingly good light game. plays very fast ...    6.00\n",
      "4        good game for some friends, especially when th...    4.00\n",
      "...                                                    ...     ...\n",
      "2482040                                                bga    7.00\n",
      "2482041  one of my favourites. it's always a challenge ...    9.14\n",
      "2482042                             it's an rpg board game    7.20\n",
      "2482043  tta is a game that demands your attention and ...    8.00\n",
      "2482044  this game is way too luck based for my likes. ...    3.00\n",
      "\n",
      "[2482045 rows x 2 columns]\n"
     ]
    }
   ],
   "source": [
    "print(all_data_df)"
   ]
  },
  {
   "cell_type": "raw",
   "metadata": {},
   "source": [
    "Next we must visualize our data in different forms in order to spot any useful\n",
    "elements that could aid us in the development of a classification algorithm.\n",
    "\n",
    "For this we create another helper function, Get_DF_byClass()."
   ]
  },
  {
   "cell_type": "code",
   "execution_count": 5,
   "metadata": {
    "ExecuteTime": {
     "end_time": "2020-04-19T22:17:31.060170Z",
     "start_time": "2020-04-19T22:17:27.075569Z"
    },
    "code_folding": [
     0,
     13
    ]
   },
   "outputs": [
    {
     "name": "stdout",
     "output_type": "stream",
     "text": [
      "   rating: 0 count: 10\n",
      "   rating: 1 count: 20077\n",
      "   rating: 2 count: 38921\n",
      "   rating: 3 count: 74425\n",
      "   rating: 4 count: 130362\n",
      "   rating: 5 count: 242860\n",
      "   rating: 6 count: 496911\n",
      "   rating: 7 count: 726467\n",
      "   rating: 8 count: 614929\n",
      "   rating: 9 count: 301233\n",
      "   rating: 10 count: 144029\n",
      "\n",
      "total data count:  2790224\n"
     ]
    }
   ],
   "source": [
    "def Get_DF_byClass(df):\n",
    "    \n",
    "    df_by_class = {}\n",
    "    for rating in set([int(rating) for rating in df['rating']]):\n",
    "        \n",
    "        df_n = df.loc[df['rating'] >= ((rating-1)+.5)]\n",
    "        df_n = df_n.loc[df_n['rating'] <= (rating+.5)]\n",
    "        df_n = df_n.sample(frac=1).reset_index(drop=True)\n",
    "        \n",
    "        df_by_class[rating] = df_n\n",
    "    \n",
    "    return df_by_class\n",
    "\n",
    "\n",
    "\n",
    "\n",
    "df_by_class = Get_DF_byClass(all_data_df)\n",
    "\n",
    "total = 0\n",
    "for rating in df_by_class:\n",
    "    print('   rating: ' + str(rating), 'count: ' + str(df_by_class[rating].shape[0]))\n",
    "    total += df_by_class[rating].shape[0]\n",
    "\n",
    "print('\\ntotal data count: ', total)"
   ]
  },
  {
   "cell_type": "raw",
   "metadata": {},
   "source": [
    "The print out above is of all ratings grouped together into integer range groups.\n",
    "These ranges were created by assigning a rating to a group by following this\n",
    "simple rule,\n",
    "            if rating - int(rating) <= .5\n",
    "            then add rating to group int(rating)\n",
    "\n",
    "From the print out above, it can be seen that one range is extremely underrepresented.\n",
    "\n",
    "Let's see our rating grouping by bar chart."
   ]
  },
  {
   "cell_type": "code",
   "execution_count": 6,
   "metadata": {
    "ExecuteTime": {
     "end_time": "2020-04-19T22:17:39.596880Z",
     "start_time": "2020-04-19T22:17:39.163690Z"
    },
    "code_folding": [
     0
    ]
   },
   "outputs": [
    {
     "data": {
      "image/png": "[encoded data removed]",
      "text/plain": [
       "<Figure size 480x320 with 1 Axes>"
      ]
     },
     "metadata": {},
     "output_type": "display_data"
    }
   ],
   "source": [
    "figure = plt.figure(num=None, figsize=(6, 4), dpi=80, facecolor='w', edgecolor='k').add_subplot()        \n",
    "figure.set_xlabel('Ratings')\n",
    "figure.set_title('Ratings & Their Counts')\n",
    "figure.set_ylabel('Rating Counts')\n",
    "figure.set_xticks(np.arange(0, 11, 1))\n",
    "for rating in df_by_class: plt.bar(rating, df_by_class[rating].shape[0])"
   ]
  },
  {
   "cell_type": "raw",
   "metadata": {},
   "source": [
    "The range of ratings around 0 is equal to 10. That is, our smallest class is\n",
    "represented by only 10 elements whereas our most dominant class is represented\n",
    "by around 700000 elements. Because of the drastic difference in representation,\n",
    "we will be dropping data records where rating is < 1."
   ]
  },
  {
   "cell_type": "code",
   "execution_count": 7,
   "metadata": {
    "ExecuteTime": {
     "end_time": "2020-04-19T22:17:50.858420Z",
     "start_time": "2020-04-19T22:17:45.913285Z"
    },
    "code_folding": [
     0
    ]
   },
   "outputs": [],
   "source": [
    "all_data_df = all_data_df.loc[all_data_df['rating'] >= 1]\n",
    "\n",
    "df_by_class = Get_DF_byClass(all_data_df)"
   ]
  },
  {
   "cell_type": "raw",
   "metadata": {},
   "source": [
    "Let's see our rating grouping by bar chart again now that we have eliminated\n",
    "the outlier class of rating values < 1"
   ]
  },
  {
   "cell_type": "code",
   "execution_count": 8,
   "metadata": {
    "ExecuteTime": {
     "end_time": "2020-04-19T22:17:55.154124Z",
     "start_time": "2020-04-19T22:17:54.855906Z"
    }
   },
   "outputs": [
    {
     "data": {
      "image/png": "[encoded data removed]",
      "text/plain": [
       "<Figure size 480x320 with 1 Axes>"
      ]
     },
     "metadata": {},
     "output_type": "display_data"
    }
   ],
   "source": [
    "figure = plt.figure(num=None, figsize=(6, 4), dpi=80, facecolor='w', edgecolor='k').add_subplot()        \n",
    "figure.set_xlabel('Ratings')\n",
    "figure.set_title('Ratings & Their Counts')\n",
    "figure.set_ylabel('Rating Counts')\n",
    "figure.set_xticks(np.arange(0, 11, 1))\n",
    "for rating in df_by_class: plt.bar(rating, df_by_class[rating].shape[0])"
   ]
  },
  {
   "cell_type": "code",
   "execution_count": 9,
   "metadata": {
    "ExecuteTime": {
     "end_time": "2020-04-19T22:18:02.092465Z",
     "start_time": "2020-04-19T22:18:02.081865Z"
    },
    "code_folding": [
     2
    ]
   },
   "outputs": [
    {
     "name": "stdout",
     "output_type": "stream",
     "text": [
      "after removing classes less than 1\n",
      "   rating: 1 count: 20073\n",
      "   rating: 2 count: 38921\n",
      "   rating: 3 count: 74425\n",
      "   rating: 4 count: 130362\n",
      "   rating: 5 count: 242860\n",
      "   rating: 6 count: 496911\n",
      "   rating: 7 count: 726467\n",
      "   rating: 8 count: 614929\n",
      "   rating: 9 count: 301233\n",
      "   rating: 10 count: 144029\n",
      "\n",
      "total data count:  2790210\n"
     ]
    }
   ],
   "source": [
    "print('\\nafter removing classes less than 1')\n",
    "total = 0\n",
    "for rating in df_by_class:\n",
    "    print('   rating: ' + str(rating), 'count: ' + str(df_by_class[rating].shape[0]))\n",
    "    total += df_by_class[rating].shape[0]\n",
    "\n",
    "print('\\ntotal data count: ', total, '\\n')"
   ]
  },
  {
   "cell_type": "raw",
   "metadata": {},
   "source": [
    "As can be seen in the print out above, we have enough elements for each class\n",
    "that we can draw a smaller sample of the data to use during classification\n",
    "algorithm development and then later we can test our algorithm on the whole set.\n",
    "\n",
    "So now we create another helper function, Get_Scaled_Data()"
   ]
  },
  {
   "cell_type": "markdown",
   "metadata": {},
   "source": [
    "### Scaling Down our Data Size, but Maintaining Proportions"
   ]
  },
  {
   "cell_type": "code",
   "execution_count": 10,
   "metadata": {
    "ExecuteTime": {
     "end_time": "2020-04-19T22:18:13.880460Z",
     "start_time": "2020-04-19T22:18:09.249364Z"
    },
    "code_folding": [
     0
    ]
   },
   "outputs": [
    {
     "name": "stdout",
     "output_type": "stream",
     "text": [
      "   rating: 1 count: 3753\n",
      "   rating: 2 count: 7533\n",
      "   rating: 3 count: 14548\n",
      "   rating: 4 count: 25732\n",
      "   rating: 5 count: 49883\n",
      "   rating: 6 count: 108142\n",
      "   rating: 7 count: 163578\n",
      "   rating: 8 count: 139790\n",
      "   rating: 9 count: 67948\n",
      "   rating: 10 count: 29212\n",
      "\n",
      "total data count:  499996\n"
     ]
    }
   ],
   "source": [
    "def Get_Scaled_Data(df, N):\n",
    "    \n",
    "    df_by_class = Get_DF_byClass(df)\n",
    "    \n",
    "    total_size = 0\n",
    "    for key in df_by_class: total_size += df_by_class[key].shape[0]\n",
    "        \n",
    "    scaled_df = []; scale = N / total_size\n",
    "    for rating in df_by_class:\n",
    "        \n",
    "        i = int(df_by_class[rating].shape[0] * scale)\n",
    "        scaled_df.append(df_by_class[rating][0:i])\n",
    "        \n",
    "    scaled_df = pd.concat(scaled_df).sample(frac=1).reset_index(drop=True)\n",
    "    \n",
    "    return scaled_df\n",
    "\n",
    "\n",
    "\n",
    "\n",
    "N = 500000\n",
    "scaled_df = Get_Scaled_Data(all_data_df, N)\n",
    "\n",
    "df_by_class = Get_DF_byClass(scaled_df)\n",
    "\n",
    "total = 0; print()\n",
    "for rating in df_by_class:\n",
    "    print('   rating: ' + str(rating), 'count: ' + str(df_by_class[rating].shape[0]))\n",
    "    total += df_by_class[rating].shape[0]\n",
    "\n",
    "print('\\ntotal data count: ', scaled_df.shape[0])"
   ]
  },
  {
   "cell_type": "raw",
   "metadata": {
    "ExecuteTime": {
     "end_time": "2020-04-19T13:26:55.902590Z",
     "start_time": "2020-04-19T13:26:55.743900Z"
    }
   },
   "source": [
    "From the print out above it can be seen that now our smallest class representation\n",
    "is closer to 4,000 and our largest class representation is closer to 160000.\n",
    "\n",
    "Get_Scaled_Data simply scaled each group so that the count of all ratings would\n",
    "be less than or equal to N, or 500,000.\n",
    "\n",
    "Our data count is now 499,996, this should be large enough to develop our algorithm\n",
    "while also being small enough that algorithm test times will not take longer than\n",
    "30 minutes to compute.\n",
    "\n",
    "So now we must split our dataframe into the x_train, y_train, x_dev, y_dev,\n",
    "and x_test, y_test data sets. However, because each x value is a string we will\n",
    "need to convert each x value into a numerical sequence by using a vectorizer.\n",
    "This vectorizer will be needed anytime we want to pass our classifier a string\n",
    "to classify. So to perform these actions we will create another helper function,\n",
    "Split_DF_as_XY()"
   ]
  },
  {
   "cell_type": "code",
   "execution_count": 11,
   "metadata": {
    "ExecuteTime": {
     "end_time": "2020-04-19T22:19:54.844379Z",
     "start_time": "2020-04-19T22:18:21.066372Z"
    },
    "code_folding": [
     0
    ]
   },
   "outputs": [],
   "source": [
    "def Split_DF_as_XY(df, train, dev, test):\n",
    "    \n",
    "    df = df.sample(frac=1).reset_index(drop=True)\n",
    "    original_len = df.shape[0]\n",
    "    i = int(train * original_len)\n",
    "    \n",
    "    vectorizer = TfidfVectorizer(ngram_range=(1, 2))\n",
    "    \n",
    "    train_df = df[:i].sample(frac=1).reset_index(drop=True)\n",
    "    vectorizer.fit(train_df['comment'])\n",
    "    \n",
    "    x_train = vectorizer.transform(train_df['comment'])\n",
    "    y_train = np.asarray(train_df['rating'])\n",
    "    \n",
    "    df = df[i:].sample(frac=1).reset_index(drop=True)\n",
    "    i = int(dev * original_len)\n",
    "    \n",
    "    dev_df = df[:i].sample(frac=1).reset_index(drop=True)\n",
    "    x_dev = vectorizer.transform(dev_df['comment'])\n",
    "    y_dev = np.asarray(dev_df['rating'])\n",
    "    \n",
    "    df = df[i:].sample(frac=1).reset_index(drop=True)\n",
    "    i = int(test * original_len)\n",
    "        \n",
    "    test_df = df[:i].sample(frac=1).reset_index(drop=True)\n",
    "    x_test = vectorizer.transform(test_df['comment'])\n",
    "    y_test = np.asarray(test_df['rating'])\n",
    "    \n",
    "    return [vectorizer, x_train, y_train, x_dev, y_dev, x_test, y_test]\n",
    "\n",
    "\n",
    "\n",
    "\n",
    "data_sets = Split_DF_as_XY(scaled_df, train=.7, dev=.15, test=.15)"
   ]
  },
  {
   "cell_type": "markdown",
   "metadata": {},
   "source": [
    "### Deciding on a Classifier"
   ]
  },
  {
   "cell_type": "raw",
   "metadata": {},
   "source": [
    "At long last, we now finally have our data in the appropriate format and we are\n",
    "ready to begin experimentation.\n",
    "\n",
    "Our first question is, What classifier maybe best suited for the given data?\n",
    "\n",
    "Because the data is text, we will try our luck with Naive Bayes. However, becasue\n",
    "we are going to test the data with Naive Bayes, we must create a helper function\n",
    "to convert Y values to integers so that Naive Bayes can correctly function.\n",
    "\n",
    "So we create the helper function, Ratings_toInt() and also a dictionary accuracies\n",
    "to record each classifier's accuracy with the data."
   ]
  },
  {
   "cell_type": "markdown",
   "metadata": {},
   "source": [
    "# Experiment 1: Comparing Classifier Performance"
   ]
  },
  {
   "cell_type": "code",
   "execution_count": 55,
   "metadata": {
    "ExecuteTime": {
     "end_time": "2020-04-20T02:21:08.417392Z",
     "start_time": "2020-04-20T02:21:08.401294Z"
    },
    "code_folding": [
     2
    ]
   },
   "outputs": [],
   "source": [
    "accuracies = {}\n",
    "\n",
    "def Ratings_toInt(ratings_float):\n",
    "    \n",
    "    ratings_int = ratings_float.astype(int)\n",
    "    \n",
    "    for i in range(ratings_float.shape[0]):\n",
    "        \n",
    "        distance = ratings_float[i] - float(ratings_int[i])\n",
    "        if distance > .5: ratings_int[i] += 1\n",
    "    \n",
    "    return ratings_int"
   ]
  },
  {
   "cell_type": "raw",
   "metadata": {},
   "source": [
    "Ratings_toInt will convert the float rating to an integer rating by following\n",
    "the rule,\n",
    "        if rating - int(rating) > .5 then rating = rating + 1\n",
    "        else rating is equal to rating\n",
    "\n",
    "And now we create and test a Naive Bayes classifier."
   ]
  },
  {
   "cell_type": "markdown",
   "metadata": {},
   "source": [
    "### Naive Bayes Performance"
   ]
  },
  {
   "cell_type": "code",
   "execution_count": 59,
   "metadata": {
    "ExecuteTime": {
     "end_time": "2020-04-20T15:48:47.158426Z",
     "start_time": "2020-04-20T15:48:44.610346Z"
    }
   },
   "outputs": [
    {
     "name": "stdout",
     "output_type": "stream",
     "text": [
      "Naive Bayes accuracy: 27.968%\n",
      "\n"
     ]
    }
   ],
   "source": [
    "vectorizer, x_train, y_train, x_dev, y_dev, x_test, y_test = data_sets.copy()\n",
    "\n",
    "y_train = Ratings_toInt(y_train)\n",
    "y_dev = Ratings_toInt(y_dev)\n",
    "\n",
    "\n",
    "nb = MultinomialNB(alpha=1)\n",
    "nb.fit(x_train, y_train)\n",
    "\n",
    "y_pred = nb.predict(x_dev)\n",
    "\n",
    "accuracy = accuracy_score(y_dev, y_pred)*100\n",
    "accuracies['NB'] = accuracy\n",
    "print('Naive Bayes accuracy: {:.3f}%\\n'.format(accuracy))"
   ]
  },
  {
   "cell_type": "raw",
   "metadata": {},
   "source": [
    "Yikes, that is very low accuracy and thats with the hyperparameter alpha=1 for\n",
    "Laplace smoothing and the ratings as integers and not even floats. Clearly this\n",
    "job is too much for Naive Bayes. So which classifier should we try next?\n",
    "\n",
    "Well, because we had to vectorize our x values, our next candidate can be KNN\n",
    "because KNN can measure simularity of our x vectors. So now we create a KNN\n",
    "classifier.\n",
    "\n",
    "Again we must make use of our helper function Ratings_toInt as KNN requires\n",
    "integer values to function correctly."
   ]
  },
  {
   "cell_type": "markdown",
   "metadata": {},
   "source": [
    "### KNN Performance"
   ]
  },
  {
   "cell_type": "code",
   "execution_count": 56,
   "metadata": {
    "ExecuteTime": {
     "end_time": "2020-04-20T06:36:09.407320Z",
     "start_time": "2020-04-20T02:21:16.125965Z"
    },
    "code_folding": []
   },
   "outputs": [
    {
     "name": "stdout",
     "output_type": "stream",
     "text": [
      "KNN k = 1, accuracy: 28.574%\n",
      "\n",
      "KNN k = 2, accuracy: 27.715%\n",
      "\n",
      "KNN k = 3, accuracy: 27.676%\n",
      "\n",
      "KNN k = 5, accuracy: 22.556%\n",
      "\n",
      "KNN k = 7, accuracy: 23.423%\n",
      "\n",
      "KNN k = 9, accuracy: 23.768%\n",
      "\n",
      "KNN k = 11, accuracy: 24.122%\n",
      "\n",
      "KNN k = 17, accuracy: 24.431%\n",
      "\n",
      "\n"
     ]
    }
   ],
   "source": [
    "vectorizer, x_train, y_train, x_dev, y_dev, x_test, y_test = data_sets.copy()\n",
    "\n",
    "y_train = Ratings_toInt(y_train)\n",
    "y_dev = Ratings_toInt(y_dev)\n",
    "\n",
    "\n",
    "best_k = 0; highest_accuracy = 0\n",
    "for k in [1, 2, 3, 5, 7, 9, 11, 17]:\n",
    "    \n",
    "    knn = KNeighborsClassifier(n_neighbors=k)\n",
    "    knn.fit(x_train, y_train) \n",
    "\n",
    "    y_pred = knn.predict(x_dev)\n",
    "\n",
    "    accuracy = accuracy_score(y_dev, y_pred)*100\n",
    "    if accuracy > highest_accuracy: best_k = k; highest_accuracy = accuracy\n",
    "    print('KNN k = ' + str(k) + ', accuracy: {:.3f}%\\n'.format(accuracy))\n",
    "print()\n",
    "\n",
    "accuracies['KNN'] = highest_accuracy"
   ]
  },
  {
   "cell_type": "raw",
   "metadata": {},
   "source": [
    "Wow, again, that is very low accuracy and thats with the hyperparameter\n",
    "n_neighbors equal to k from k in [1, 2, 3, 5, 7, 9, 11, 17]. So clearly\n",
    "this job is too much for KNN too. So which classifier should we try next?\n",
    "\n",
    "Next we can try SVM or Support Vector Machine, because typically it is very\n",
    "good for when we have no idea on the data, which seems to be the case given\n",
    "that Naive Bayes and KNN have performed so terribly with the data at hand.\n",
    "\n",
    "So now we define and test a SVM classifier. Yet again, we must make use of\n",
    "our helper function Ratings_toInt as SVM requires integer values to function\n",
    "correctly."
   ]
  },
  {
   "cell_type": "markdown",
   "metadata": {},
   "source": [
    "### SVM Performance"
   ]
  },
  {
   "cell_type": "code",
   "execution_count": 57,
   "metadata": {
    "ExecuteTime": {
     "end_time": "2020-04-20T15:21:58.519624Z",
     "start_time": "2020-04-20T15:17:53.765255Z"
    }
   },
   "outputs": [
    {
     "name": "stdout",
     "output_type": "stream",
     "text": [
      "SVM accuracy: 32.444%\n",
      "\n"
     ]
    }
   ],
   "source": [
    "vectorizer, x_train, y_train, x_dev, y_dev, x_test, y_test = data_sets.copy()\n",
    "\n",
    "int_train = Ratings_toInt(y_train)\n",
    "int_dev = Ratings_toInt(y_dev)\n",
    "\n",
    "\n",
    "svm = LinearSVC()\n",
    "svm.fit(x_train, int_train)\n",
    "\n",
    "y_pred = svm.predict(x_dev)\n",
    "\n",
    "accuracy = accuracy_score(int_dev, y_pred)*100\n",
    "print('SVM accuracy: {:.3f}%\\n'.format(accuracy))\n",
    "accuracies['SVM'] = accuracy"
   ]
  },
  {
   "cell_type": "raw",
   "metadata": {},
   "source": [
    "Ok, well given the accuracy we saw with Naive Bayes and KNN, this is actually\n",
    "quite an improvement. Also, note that this accuracy was achieved without any\n",
    "hyperparameter tuning.\n",
    "\n",
    "Now let us review the accuracies that we have recorded for each classifier."
   ]
  },
  {
   "cell_type": "code",
   "execution_count": 69,
   "metadata": {
    "ExecuteTime": {
     "end_time": "2020-04-20T15:57:40.418884Z",
     "start_time": "2020-04-20T15:57:40.133481Z"
    }
   },
   "outputs": [
    {
     "data": {
      "image/png": "[encoded data removed]",
      "text/plain": [
       "<Figure size 480x320 with 1 Axes>"
      ]
     },
     "metadata": {},
     "output_type": "display_data"
    }
   ],
   "source": [
    "figure = plt.figure(num=None, figsize=(6, 4), dpi=80, facecolor='w', edgecolor='k').add_subplot()        \n",
    "figure.set_title('Classifiers & Their Accuracies')\n",
    "figure.set_ylabel('Accuracy')\n",
    "figure.set_xticklabels(['NB', 'KNN', 'SVM']) \n",
    "\n",
    "plt.bar('NB', accuracies['NB']/100)\n",
    "plt.bar('KNN', accuracies['KNN']/100)\n",
    "figure = plt.bar('SVM', accuracies['SVM']/100)\n",
    "accuracies = []"
   ]
  },
  {
   "cell_type": "raw",
   "metadata": {},
   "source": [
    "The bar graph above shows the comparison of each classifier and its accuracy against\n",
    "that of the other classifiers and their accuracies. SVM's performance can be seen to\n",
    "stand out here. However, this accuracy with SVM is still very low.\n",
    "\n",
    "Our next question is, Can we improve this accuracy?\n",
    "\n",
    "Let us create an experiment for SVM on a more simplified version of our problem.\n",
    "We will create a model of SVM that can classify a comment as either positive or negative.\n",
    "\n",
    "Below is the testing of this model."
   ]
  },
  {
   "cell_type": "markdown",
   "metadata": {},
   "source": [
    "# Experiment 2: Test SVM on a More Relaxed Problem"
   ]
  },
  {
   "cell_type": "code",
   "execution_count": 70,
   "metadata": {
    "ExecuteTime": {
     "end_time": "2020-04-20T15:58:04.372354Z",
     "start_time": "2020-04-20T15:57:51.667722Z"
    }
   },
   "outputs": [
    {
     "name": "stdout",
     "output_type": "stream",
     "text": [
      "SVM: binary accuracy: 91.479%\n",
      "\n"
     ]
    }
   ],
   "source": [
    "vectorizer, x_train, y_train, x_dev, y_dev, x_test, y_test = data_sets.copy()\n",
    "\n",
    "int_train = Ratings_toInt(y_train)\n",
    "b_train = np.asarray([1 if y >= 5 else 0 for y in int_train])\n",
    "\n",
    "int_dev = Ratings_toInt(y_dev)\n",
    "b_dev = np.asarray([1 if y >= 5 else 0 for y in int_dev])\n",
    "\n",
    "\n",
    "svm = LinearSVC()\n",
    "svm.fit(x_train, b_train)\n",
    "\n",
    "y_pred = svm.predict(x_dev)\n",
    "\n",
    "accuracy = accuracy_score(b_dev, y_pred)*100\n",
    "accuracies.append(accuracy)\n",
    "print('SVM: binary accuracy: {:.3f}%\\n'.format(accuracy))"
   ]
  },
  {
   "cell_type": "raw",
   "metadata": {},
   "source": [
    "Wow, now that is impressive accuracy. However, the problem is quite simplified.\n",
    "We need this kind of accuracy, but with multiclasses.\n",
    "\n",
    "Let us perform some more experiments to see what we are dealing with. Can we\n",
    "split the space into 3 with this kind of accuracy?\n",
    "\n",
    "Below is the testing of this model."
   ]
  },
  {
   "cell_type": "markdown",
   "metadata": {},
   "source": [
    "# Experiment 3: Comparing SVM Performance as the Number of Classes Increase"
   ]
  },
  {
   "cell_type": "code",
   "execution_count": 71,
   "metadata": {
    "ExecuteTime": {
     "end_time": "2020-04-20T15:58:55.890485Z",
     "start_time": "2020-04-20T15:58:15.464212Z"
    }
   },
   "outputs": [
    {
     "name": "stdout",
     "output_type": "stream",
     "text": [
      "SVM: trinary accuracy: 70.670%\n",
      "\n"
     ]
    }
   ],
   "source": [
    "vectorizer, x_train, y_train, x_dev, y_dev, x_test, y_test = data_sets.copy()\n",
    "\n",
    "int_train = Ratings_toInt(y_train)\n",
    "tri_train = []\n",
    "for y in int_train:\n",
    "    if y < 4: tri_train.append(0)\n",
    "    elif y < 8: tri_train.append(1)\n",
    "    else: tri_train.append(2)\n",
    "tri_train = np.asarray(tri_train)\n",
    "\n",
    "int_dev = Ratings_toInt(y_dev)\n",
    "tri_dev = []\n",
    "for y in int_dev:\n",
    "    if y < 4: tri_dev.append(0)\n",
    "    elif y < 8: tri_dev.append(1)\n",
    "    else: tri_dev.append(2)\n",
    "tri_dev = np.asarray(tri_dev)\n",
    "\n",
    "\n",
    "svm = LinearSVC()\n",
    "svm.fit(x_train, tri_train)\n",
    "\n",
    "y_pred = svm.predict(x_dev)\n",
    "\n",
    "accuracy = accuracy_score(tri_dev, y_pred)*100\n",
    "accuracies.append(accuracy)\n",
    "print('SVM: trinary accuracy: {:.3f}%\\n'.format(accuracy))"
   ]
  },
  {
   "cell_type": "raw",
   "metadata": {},
   "source": [
    "Oh no, we lost a lot of our accuracy, but we still have a decent level. However,\n",
    "taking the problem from binary to trinary may not be the best decision, but let\n",
    "us see what happens if we ask SVM to separate the space into 4.\n",
    "\n",
    "Below is the testing of this new model."
   ]
  },
  {
   "cell_type": "code",
   "execution_count": 72,
   "metadata": {
    "ExecuteTime": {
     "end_time": "2020-04-20T16:00:17.352260Z",
     "start_time": "2020-04-20T15:59:20.639226Z"
    }
   },
   "outputs": [
    {
     "name": "stdout",
     "output_type": "stream",
     "text": [
      "SVM: quadnary accuracy: 58.371%\n",
      "\n"
     ]
    }
   ],
   "source": [
    "vectorizer, x_train, y_train, x_dev, y_dev, x_test, y_test = data_sets.copy()\n",
    "\n",
    "int_train = Ratings_toInt(y_train)\n",
    "quad_train = []\n",
    "for y in int_train:\n",
    "    if y < 4: quad_train.append(0)\n",
    "    elif y < 6: quad_train.append(1)\n",
    "    elif y < 8: quad_train.append(2)\n",
    "    else: quad_train.append(3)\n",
    "quad_train = np.asarray(quad_train)\n",
    "\n",
    "int_dev = Ratings_toInt(y_dev)\n",
    "quad_dev = []\n",
    "for y in int_dev:\n",
    "    if y < 4: quad_dev.append(0)\n",
    "    elif y < 6: quad_dev.append(1)\n",
    "    elif y < 8: quad_dev.append(2)\n",
    "    else: quad_dev.append(3)\n",
    "quad_dev = np.asarray(quad_dev)\n",
    "\n",
    "\n",
    "svm = LinearSVC()\n",
    "svm.fit(x_train, quad_train)\n",
    "\n",
    "y_pred = svm.predict(x_dev)\n",
    "\n",
    "accuracy = accuracy_score(quad_dev, y_pred)*100\n",
    "accuracies.append(accuracy)\n",
    "print('SVM: quadnary accuracy: {:.3f}%\\n'.format(accuracy))"
   ]
  },
  {
   "cell_type": "raw",
   "metadata": {},
   "source": [
    "Oh no, that is an even bigger reduction in accuracy. Taking the problem further\n",
    "from binary may not be the best decision.\n",
    "\n",
    "Let's look at the changes in accuracy that occurred as we increased the the\n",
    "number of spaces that we wanted to separate the data into with SVM, in graph form."
   ]
  },
  {
   "cell_type": "code",
   "execution_count": 77,
   "metadata": {
    "ExecuteTime": {
     "end_time": "2020-04-20T16:06:16.487267Z",
     "start_time": "2020-04-20T16:06:16.118132Z"
    }
   },
   "outputs": [
    {
     "data": {
      "image/png": "[encoded data removed]",
      "text/plain": [
       "<Figure size 480x320 with 1 Axes>"
      ]
     },
     "metadata": {},
     "output_type": "display_data"
    }
   ],
   "source": [
    "figure = plt.figure(num=None, figsize=(6, 4), dpi=80, facecolor='w', edgecolor='k').add_subplot()        \n",
    "figure.set_xlabel('Sentiment Range Space Split Values')\n",
    "figure.set_title('Sentiment Range Space Split Values vs Accuracy')\n",
    "figure.set_ylabel('Accuracy')\n",
    "figure.set_xticks(np.arange(0, 5, 1))\n",
    "figure = figure.plot([2, 3, 4], [accuracy/100 for accuracy in accuracies], color='red', linewidth=2)"
   ]
  },
  {
   "cell_type": "raw",
   "metadata": {},
   "source": [
    "From the graph above we can see that as we increase the number of classes,\n",
    "we decrease SVM's accuracy. So that did not work. But we did get really good\n",
    "accuracy when the problem was binary, so is there some way to keep the\n",
    "problem binary and get higher accuracy than SVM on its own?"
   ]
  },
  {
   "cell_type": "markdown",
   "metadata": {},
   "source": [
    "# Experiment 4: Making the Contribution: a Layered SVM"
   ]
  },
  {
   "cell_type": "raw",
   "metadata": {},
   "source": [
    "Next we will define a model that will utilize a layered SVM form. There will be\n",
    "several SVM classifiers trained on the same data, but with different labels.\n",
    "Each classifier will make a binary decision until an overall classification can\n",
    "be made. The model will have 1 classifier for each class. Each classifier will be\n",
    "trained over the same data, however, for each classifier the rating values, or\n",
    "the labels, will be different. Each classifier will attempt to decide whether\n",
    "the comment's rating is on the left or the right side of the rating continuum.\n",
    "Once the algorithm detects which side the rating is on, it makes a prediction\n",
    "or passes the comment to the next classifier to make a more precise prediction.\n",
    "\n",
    "Below is the testing of this Major_Classifier, which when given a comment will\n",
    "attempt to make a prediction as to what the rating is, to the nearest whole number."
   ]
  },
  {
   "cell_type": "code",
   "execution_count": 16,
   "metadata": {
    "ExecuteTime": {
     "end_time": "2020-04-19T22:30:44.301171Z",
     "start_time": "2020-04-19T22:27:19.326332Z"
    },
    "code_folding": [
     30
    ]
   },
   "outputs": [
    {
     "name": "stdout",
     "output_type": "stream",
     "text": [
      "major classifier accuracy: 35.160%\n",
      "\n"
     ]
    }
   ],
   "source": [
    "class Major_Classifier:\n",
    "    \n",
    "    def __init__(self, vectorizer, C=1):\n",
    "        \n",
    "        self.vectorizer = vectorizer\n",
    "        self.C = C\n",
    "        \n",
    "        return\n",
    "    \n",
    "    \n",
    "    \n",
    "    def Train(self, x_train, y_train):\n",
    "        \n",
    "        self.labels = [label for label in set([y for y in y_train])]\n",
    "        self.labels.sort()\n",
    "        \n",
    "        self.classifiers = {}\n",
    "        for label in self.labels:\n",
    "            \n",
    "            if label != 10:\n",
    "                Y = np.asarray([0 if y > label else label for y in y_train])\n",
    "            else:\n",
    "                Y = np.asarray([0 if y < label else label for y in y_train])\n",
    "                    \n",
    "            self.classifiers[label] = LinearSVC(C=self.C)\n",
    "            self.classifiers[label].fit(x_train, Y)\n",
    "        \n",
    "        return\n",
    "    \n",
    "    \n",
    "    \n",
    "    def Predict(self, X):\n",
    "        \n",
    "        if isinstance(X, scipy.sparse.csr.csr_matrix) != True:\n",
    "            if isinstance(X, list) == False: X = [X]\n",
    "            V = self.vectorizer.transform(X)\n",
    "        else: V = X\n",
    "        \n",
    "        predictions = []\n",
    "        for v in V:\n",
    "            p = 0\n",
    "            for label in self.labels:\n",
    "                p = self.classifiers[label].predict(v)[0]\n",
    "                if p == label: break\n",
    "                        \n",
    "            predictions.append(p)\n",
    "        \n",
    "        predictions = np.asarray(predictions)\n",
    "        \n",
    "        return predictions\n",
    "\n",
    "\n",
    "\n",
    "vectorizer, x_train, y_train, x_dev, y_dev, x_test, y_test = data_sets.copy()\n",
    "\n",
    "int_train = Ratings_toInt(y_train)\n",
    "int_dev = Ratings_toInt(y_dev)\n",
    "\n",
    "\n",
    "major_classifier = Major_Classifier(vectorizer)\n",
    "major_classifier.Train(x_train, int_train)\n",
    "\n",
    "p = major_classifier.Predict(x_dev)\n",
    "\n",
    "a = accuracy_score(int_dev, p)*100\n",
    "print('major classifier accuracy: {:.3f}%\\n'.format(a))"
   ]
  },
  {
   "cell_type": "raw",
   "metadata": {},
   "source": [
    "Thats better than what SVM can do all on its own! We did it, we created a model\n",
    "that gets better accuracy than what SVM does on its own. Yes, this accuracy may\n",
    "seem low but it is much better than randomly picking a value, where the\n",
    "probability of randomly picking correctly is about 10%."
   ]
  },
  {
   "cell_type": "markdown",
   "metadata": {
    "ExecuteTime": {
     "end_time": "2020-04-19T22:49:36.011947Z",
     "start_time": "2020-04-19T22:41:23.994313Z"
    }
   },
   "source": [
    "# Experiment 5: Hyperparameter Tuning"
   ]
  },
  {
   "cell_type": "raw",
   "metadata": {
    "ExecuteTime": {
     "end_time": "2020-04-19T22:49:36.011947Z",
     "start_time": "2020-04-19T22:41:23.994313Z"
    }
   },
   "source": [
    "Now it is time to tune our hyperparameters. We must find a hyperparameter C, or\n",
    "the Regularization parameter, that can possible achieve a higher accuracy.\n",
    "\n",
    "Below we test different values for C, display a plotted relationship between\n",
    "C values and accuracy, and then we select the best value for C."
   ]
  },
  {
   "cell_type": "code",
   "execution_count": 78,
   "metadata": {
    "ExecuteTime": {
     "end_time": "2020-04-20T16:19:42.938504Z",
     "start_time": "2020-04-20T16:10:54.244362Z"
    }
   },
   "outputs": [
    {
     "name": "stdout",
     "output_type": "stream",
     "text": [
      "\n",
      "major classifier, C = 0.7, accuracy: 35.448%\n",
      "\n",
      "major classifier, C = 0.5, accuracy: 35.719%\n",
      "\n",
      "major classifier, C = 0.01, accuracy: 33.071%\n",
      "\n",
      "major classifier, C = 0.001, accuracy: 28.726%\n",
      "\n",
      "\n",
      "optimal value of C:  0.5\n",
      "          accuracy: 35.719%\n",
      "\n"
     ]
    },
    {
     "data": {
      "image/png": "[encoded data removed]",
      "text/plain": [
       "<Figure size 480x320 with 1 Axes>"
      ]
     },
     "metadata": {},
     "output_type": "display_data"
    }
   ],
   "source": [
    "vectorizer, x_train, y_train, x_dev, y_dev, x_test, y_test = data_sets.copy()\n",
    "\n",
    "int_train = Ratings_toInt(y_train)\n",
    "int_dev = Ratings_toInt(y_dev)\n",
    "\n",
    "\n",
    "accuracies = []; print()\n",
    "for i, C in enumerate([.7, .5, .01, .001]):\n",
    "    major_classifier = Major_Classifier(vectorizer, C)\n",
    "    major_classifier.Train(x_train, int_train)\n",
    "\n",
    "    p = major_classifier.Predict(x_dev)\n",
    "\n",
    "    a = accuracy_score(int_dev, p)*100\n",
    "    accuracies.append([C, a])\n",
    "    print('major classifier, C = ' + str(C) + ', accuracy: {:.3f}%\\n'.format(a))\n",
    "\n",
    "C = []; A = []; max_a = 0; max_ai = 0; optimal_hyperparameter = 0\n",
    "for i, (c, a) in enumerate(accuracies):\n",
    "    C.append(c); A.append(a/100)\n",
    "    if a > max_a: max_a = a; max_ai = i; optimal_hyperparameter = c\n",
    "\n",
    "print('\\noptimal value of C: ', C[max_ai])\n",
    "print('          accuracy: {:.3f}%\\n'.format(A[max_ai]*100))\n",
    "\n",
    "\n",
    "figure = plt.figure(num=None, figsize=(6, 4), dpi=80, facecolor='w', edgecolor='k').add_subplot()        \n",
    "figure.plot(C, A, color='blue', linewidth=2)\n",
    "figure.set_xlabel('Regularization Parameter or C Values')\n",
    "figure.set_title('Regularization Parameter (C Values) vs Accuracy')\n",
    "figure = figure.set_ylabel('Accuracy')"
   ]
  },
  {
   "cell_type": "raw",
   "metadata": {},
   "source": [
    "From the above graph we can find our optimal hyperparameter for C.\n",
    "\n",
    "With this optimal hyperparameter we will now perform\n",
    "our final testing using all data that was provided to us."
   ]
  },
  {
   "cell_type": "markdown",
   "metadata": {},
   "source": [
    "# Experiment 6: Performing the Final Evaluation & Checking for Overfit"
   ]
  },
  {
   "cell_type": "code",
   "execution_count": 35,
   "metadata": {
    "ExecuteTime": {
     "end_time": "2020-04-19T23:34:33.142620Z",
     "start_time": "2020-04-19T23:31:42.661729Z"
    }
   },
   "outputs": [
    {
     "name": "stdout",
     "output_type": "stream",
     "text": [
      "major classifier final accuracy: 35.654%\n",
      "\n"
     ]
    }
   ],
   "source": [
    "final_test_data_sets = Split_DF_as_XY(all_data_df, train=.7, dev=.15, test=.15)\n",
    "\n",
    "vectorizer, x_train, y_train, x_dev, y_dev, x_test, y_test = final_test_data_sets\n",
    "\n",
    "int_train = Ratings_toInt(y_train)\n",
    "int_test = Ratings_toInt(y_test)\n",
    "\n",
    "\n",
    "major_classifier = Major_Classifier(vectorizer, optimal_hyperparameter)\n",
    "major_classifier.Train(x_train, int_train)\n",
    "\n",
    "p = major_classifier.Predict(x_test)\n",
    "\n",
    "a = accuracy_score(int_test, p)*100\n",
    "print('major classifier final accuracy: {:.3f}%\\n'.format(a))"
   ]
  },
  {
   "cell_type": "raw",
   "metadata": {},
   "source": [
    "Nice, our final accuracy is a good improvement over what SVM could do when it\n",
    "was only by itself. We created a model that outperformed SVM and then we tuned\n",
    "this model's hyperparameters to find an optimal value. We then outperformed SVM\n",
    "yet again."
   ]
  },
  {
   "attachments": {},
   "cell_type": "markdown",
   "metadata": {},
   "source": [
    "### Results and Conclusions\n",
    "Results showed that Naïve Bayes and KNN where not the right classifiers for the kind\n",
    "of data that was associated with this project even after moderate hyperparameters had\n",
    "been located for each. In the end it was the Support Vector Machines that showed to\n",
    "have any handle on the data. Without any hyperparameter tuning SVM was able to score\n",
    "higher than Naïve Bayes and KNN with their optimal hyperparameters.\n",
    "\n",
    "Yes, SVM’s accuracy was also low, approximately some 30%, however, with the developed\n",
    "Major Classifier model with its optimal hyperparameters that I made for this project,\n",
    "predictions could then be made with accuracies above 35% and almost to 36%. This is much\n",
    "better than just randomly guessing which would select a correct answer some 10% of the\n",
    "time.\n",
    "\n",
    "In conclusion, I set out to see if I could create a version of a known classification\n",
    "model that could calculate better accuracies than those of the classifications model\n",
    "without my enhancements. I am pleased to say that I was able to create such a model and\n",
    "contribute to an increased calculated accuracy."
   ]
  },
  {
   "cell_type": "raw",
   "metadata": {},
   "source": [
    "Thank you for reading my blog post,\n",
    "\n",
    "Again thank you,\n",
    "\n",
    "Zacary Cotton"
   ]
  },
  {
   "cell_type": "code",
   "execution_count": null,
   "metadata": {},
   "outputs": [],
   "source": []
  },
  {
   "cell_type": "markdown",
   "metadata": {},
   "source": [
    "# Challenges\n",
    "This project presented many challenges as the data set was very large and very\n",
    "difficult to predict. Many of the comments were quite long, non-english, and\n",
    "not all encoded in the same format. As for the ratings, class representation was\n",
    "not exactly even. The smallest range of values was 10 while the largest was closer\n",
    "to 726470, so class representation was quite skewed. Also, many ratings went many\n",
    "places behind the decimal point. To develop a model with such precision that could\n",
    "deal with such issues could likely only be done with a Neural Network. Many questions\n",
    "arrived as research began. Questions such as, Can this be done without a Neural\n",
    "Network? Which classifier should be the starting point? How to achieve an increased\n",
    "accuracy? What hyperparameters are necessary? Can I implement an optimization idea\n",
    "to increase accuracy? Fortunately, all of these questions were able to be answered.\n",
    "But the main questions were, Can a model be made to predict the data? Can this model’s\n",
    "accuracy be increased? The answer to both of these challenges was yes. A model could\n",
    "be made to predict the data and the accuracy could be increased by a layered SVM model."
   ]
  },
  {
   "cell_type": "code",
   "execution_count": null,
   "metadata": {},
   "outputs": [],
   "source": []
  },
  {
   "attachments": {},
   "cell_type": "markdown",
   "metadata": {},
   "source": [
    "# The Contribution\n",
    "Because many classifiers performed so poorly with the given data, the main plan for\n",
    "attack became to develop a model that could perform better and achieve higher accuracy.\n",
    "The model I developed for this project ended up being a more layered version of SVM\n",
    "that utilized multiple SVM classifiers that had been trained to give independent answers.\n",
    "\n",
    "My algorithm involved using several SVM classifiers that were trained on the same data,\n",
    "but with different labels for each classifier. Each classifier makes a binary decision\n",
    "until an overall classification can be made. The model has 1 classifier for each class.\n",
    "Each classifier is trained over the same data, however, for each classifier the rating\n",
    "values, or the labels, are different. Each classifier attempts to decide whether the\n",
    "comment's rating is on the left or the right side of the rating continuum. Once my\n",
    "algorithm detects which side the rating is on, it makes a prediction or passes the\n",
    "comment to the next classifier to make a more precise prediction.\n",
    "\n",
    "Results demonstrated that with my developed algorithm, there was an increase in accuracy\n",
    "of some 3%. After my classifier received hyperparameter tuning, there was another increase\n",
    "in accuracy of almost 1%. Altogether my classifier makes predictions with accuracy that is\n",
    "2.9-4% higher than that of the accuracy achieved by SVM on its own."
   ]
  },
  {
   "cell_type": "code",
   "execution_count": null,
   "metadata": {},
   "outputs": [],
   "source": []
  },
  {
   "cell_type": "markdown",
   "metadata": {},
   "source": [
    "# References\n",
    "\n",
    "• sklearn’s Naïve Bayes example:\n",
    "https://scikit-learn.org/stable/modules/generated/sklearn.naive_bayes.MultinomialNB.html#sklearn.naive_bayes.MultinomialNB\n",
    "\n",
    "• sklearn’s KNN example:\n",
    "https://scikit-learn.org/stable/modules/generated/sklearn.neighbors.KNeighborsClassifier.html\n",
    "\n",
    "• sklearn’s SVM example:\n",
    "https://scikit-learn.org/stable/modules/generated/sklearn.svm.LinearSVC.html"
   ]
  }
 ],
 "metadata": {
  "kernelspec": {
   "display_name": "Python 3",
   "language": "python",
   "name": "python3"
  },
  "language_info": {
   "codemirror_mode": {
    "name": "ipython",
    "version": 3
   },
   "file_extension": ".py",
   "mimetype": "text/x-python",
   "name": "python",
   "nbconvert_exporter": "python",
   "pygments_lexer": "ipython3",
   "version": "3.7.3"
  }
 },
 "nbformat": 4,
 "nbformat_minor": 4
}
